{
 "cells": [
  {
   "cell_type": "code",
   "execution_count": 1,
   "id": "6893e7b8",
   "metadata": {},
   "outputs": [],
   "source": [
    "import pandas as pd\n",
    "import matplotlib.pyplot as plt"
   ]
  },
  {
   "cell_type": "markdown",
   "id": "01e4cd83",
   "metadata": {},
   "source": [
    "# Merging Data Sources#"
   ]
  },
  {
   "cell_type": "code",
   "execution_count": 2,
   "id": "2d8873fe",
   "metadata": {},
   "outputs": [],
   "source": [
    "tracks = pd.read_excel(\"Data\\green_tripdata_2015-09.xls\")"
   ]
  },
  {
   "cell_type": "code",
   "execution_count": 3,
   "id": "0b2a4dc7",
   "metadata": {},
   "outputs": [],
   "source": [
    "tracks = tracks.drop(0)"
   ]
  },
  {
   "cell_type": "code",
   "execution_count": 4,
   "id": "c2f60660",
   "metadata": {},
   "outputs": [],
   "source": [
    "tracks = tracks.rename(columns= {\"VendorID\": \"V_ID\"})"
   ]
  },
  {
   "cell_type": "code",
   "execution_count": 5,
   "id": "da7bd98d",
   "metadata": {},
   "outputs": [
    {
     "data": {
      "text/plain": [
       "Index(['V_ID', 'lpep_pickup_datetime', 'Lpep_dropoff_datetime',\n",
       "       'Store_and_fwd_flag', 'RateCodeID', 'Pickup_longitude',\n",
       "       'Pickup_latitude', 'Dropoff_longitude', 'Dropoff_latitude',\n",
       "       'Passenger_count', 'Trip_distance', 'Fare_amount', 'Extra', 'MTA_tax',\n",
       "       'Tip_amount', 'Tolls_amount', 'Ehail_fee', 'improvement_surcharge',\n",
       "       'Total_amount', 'Payment_type', 'Trip_type '],\n",
       "      dtype='object')"
      ]
     },
     "execution_count": 5,
     "metadata": {},
     "output_type": "execute_result"
    }
   ],
   "source": [
    "tracks.columns"
   ]
  },
  {
   "cell_type": "code",
   "execution_count": 6,
   "id": "2a93c101",
   "metadata": {},
   "outputs": [
    {
     "data": {
      "text/plain": [
       "1        45.00\n",
       "2         5.80\n",
       "3         6.30\n",
       "4         6.30\n",
       "5         8.16\n",
       "         ...  \n",
       "65530    10.80\n",
       "65531    14.76\n",
       "65532    11.00\n",
       "65533    14.76\n",
       "65534     9.80\n",
       "Name: Total_amount, Length: 65534, dtype: float64"
      ]
     },
     "execution_count": 6,
     "metadata": {},
     "output_type": "execute_result"
    }
   ],
   "source": [
    "tracks[\"Total_amount\"]"
   ]
  },
  {
   "cell_type": "code",
   "execution_count": 7,
   "id": "d8af44ed",
   "metadata": {},
   "outputs": [
    {
     "data": {
      "text/plain": [
       "V_ID                              int64\n",
       "lpep_pickup_datetime     datetime64[ns]\n",
       "Lpep_dropoff_datetime    datetime64[ns]\n",
       "Store_and_fwd_flag               object\n",
       "RateCodeID                        int64\n",
       "Pickup_longitude                float64\n",
       "Pickup_latitude                 float64\n",
       "Dropoff_longitude               float64\n",
       "Dropoff_latitude                float64\n",
       "Passenger_count                   int64\n",
       "Trip_distance                   float64\n",
       "Fare_amount                     float64\n",
       "Extra                           float64\n",
       "MTA_tax                         float64\n",
       "Tip_amount                      float64\n",
       "Tolls_amount                    float64\n",
       "Ehail_fee                       float64\n",
       "improvement_surcharge           float64\n",
       "Total_amount                    float64\n",
       "Payment_type                      int64\n",
       "Trip_type                         int64\n",
       "dtype: object"
      ]
     },
     "execution_count": 7,
     "metadata": {},
     "output_type": "execute_result"
    }
   ],
   "source": [
    "tracks.dtypes"
   ]
  },
  {
   "cell_type": "code",
   "execution_count": 8,
   "id": "0ae78040",
   "metadata": {},
   "outputs": [],
   "source": [
    " sample_tracks = tracks.sample(10, random_state= 42)"
   ]
  },
  {
   "cell_type": "code",
   "execution_count": 9,
   "id": "c2fb9207",
   "metadata": {},
   "outputs": [],
   "source": [
    "accidents = pd.read_csv(r\"Data\\accidents.csv\")"
   ]
  },
  {
   "cell_type": "markdown",
   "id": "40aa92dd",
   "metadata": {},
   "source": [
    "### sample_tracks.merge(accidents) ###"
   ]
  }
 ],
 "metadata": {
  "kernelspec": {
   "display_name": "Python 3 (ipykernel)",
   "language": "python",
   "name": "python3"
  },
  "language_info": {
   "codemirror_mode": {
    "name": "ipython",
    "version": 3
   },
   "file_extension": ".py",
   "mimetype": "text/x-python",
   "name": "python",
   "nbconvert_exporter": "python",
   "pygments_lexer": "ipython3",
   "version": "3.9.12"
  }
 },
 "nbformat": 4,
 "nbformat_minor": 5
}
