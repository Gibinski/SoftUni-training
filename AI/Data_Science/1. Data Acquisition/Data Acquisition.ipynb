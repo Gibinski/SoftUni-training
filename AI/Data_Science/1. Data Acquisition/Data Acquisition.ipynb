{
 "cells": [
  {
   "cell_type": "code",
   "execution_count": 42,
   "id": "5a4a8a3f",
   "metadata": {},
   "outputs": [],
   "source": [
    "import pandas as pd\n",
    "import matplotlib.pyplot as plt"
   ]
  },
  {
   "cell_type": "markdown",
   "id": "1d3b2c2c",
   "metadata": {},
   "source": [
    "# Data Acquisition #\n",
    "##  Demo ##"
   ]
  },
  {
   "cell_type": "code",
   "execution_count": 7,
   "id": "37a77663",
   "metadata": {},
   "outputs": [
    {
     "data": {
      "text/plain": [
       "A    1\n",
       "B    2\n",
       "C    3\n",
       "D    4\n",
       "R    5\n",
       "dtype: int64"
      ]
     },
     "execution_count": 7,
     "metadata": {},
     "output_type": "execute_result"
    }
   ],
   "source": [
    "pd.Series([1, 2, 3, 4, 5], [\"A\", \"B\", \"C\", \"D\", \"R\"])"
   ]
  },
  {
   "cell_type": "code",
   "execution_count": 9,
   "id": "84cecd54",
   "metadata": {},
   "outputs": [],
   "source": [
    "frame = pd.DataFrame({\n",
    "    \"col1\": [1, 2, 3, 4],\n",
    "    \"col2\": [4, 5, 6, 7],\n",
    "    \"col3\": [\"A\", \"B\", \"C\", \"D\"]\n",
    "})"
   ]
  },
  {
   "cell_type": "code",
   "execution_count": 11,
   "id": "5a41355e",
   "metadata": {},
   "outputs": [
    {
     "data": {
      "text/html": [
       "<div>\n",
       "<style scoped>\n",
       "    .dataframe tbody tr th:only-of-type {\n",
       "        vertical-align: middle;\n",
       "    }\n",
       "\n",
       "    .dataframe tbody tr th {\n",
       "        vertical-align: top;\n",
       "    }\n",
       "\n",
       "    .dataframe thead th {\n",
       "        text-align: right;\n",
       "    }\n",
       "</style>\n",
       "<table border=\"1\" class=\"dataframe\">\n",
       "  <thead>\n",
       "    <tr style=\"text-align: right;\">\n",
       "      <th></th>\n",
       "      <th>col1</th>\n",
       "      <th>col2</th>\n",
       "      <th>col3</th>\n",
       "    </tr>\n",
       "  </thead>\n",
       "  <tbody>\n",
       "    <tr>\n",
       "      <th>0</th>\n",
       "      <td>1</td>\n",
       "      <td>4</td>\n",
       "      <td>A</td>\n",
       "    </tr>\n",
       "    <tr>\n",
       "      <th>1</th>\n",
       "      <td>2</td>\n",
       "      <td>5</td>\n",
       "      <td>B</td>\n",
       "    </tr>\n",
       "    <tr>\n",
       "      <th>2</th>\n",
       "      <td>3</td>\n",
       "      <td>6</td>\n",
       "      <td>C</td>\n",
       "    </tr>\n",
       "    <tr>\n",
       "      <th>3</th>\n",
       "      <td>4</td>\n",
       "      <td>7</td>\n",
       "      <td>D</td>\n",
       "    </tr>\n",
       "  </tbody>\n",
       "</table>\n",
       "</div>"
      ],
      "text/plain": [
       "   col1  col2 col3\n",
       "0     1     4    A\n",
       "1     2     5    B\n",
       "2     3     6    C\n",
       "3     4     7    D"
      ]
     },
     "execution_count": 11,
     "metadata": {},
     "output_type": "execute_result"
    }
   ],
   "source": [
    "frame"
   ]
  },
  {
   "cell_type": "markdown",
   "id": "c6ad7a09",
   "metadata": {},
   "source": [
    "## Reading CSV files ##"
   ]
  },
  {
   "cell_type": "code",
   "execution_count": 17,
   "id": "88771979",
   "metadata": {},
   "outputs": [],
   "source": [
    "accidents = pd.read_csv(r\"Data\\accidents.csv\")"
   ]
  },
  {
   "cell_type": "code",
   "execution_count": 23,
   "id": "f07fb558",
   "metadata": {},
   "outputs": [
    {
     "data": {
      "text/plain": [
       "'% of Accidents'"
      ]
     },
     "execution_count": 23,
     "metadata": {},
     "output_type": "execute_result"
    }
   ],
   "source": [
    "accidents.columns[1]"
   ]
  },
  {
   "cell_type": "code",
   "execution_count": 27,
   "id": "600418e0",
   "metadata": {},
   "outputs": [
    {
     "data": {
      "text/plain": [
       "RangeIndex(start=0, stop=6, step=1)"
      ]
     },
     "execution_count": 27,
     "metadata": {},
     "output_type": "execute_result"
    }
   ],
   "source": [
    "accidents.index"
   ]
  },
  {
   "cell_type": "code",
   "execution_count": 51,
   "id": "a8eb0c0a",
   "metadata": {},
   "outputs": [
    {
     "data": {
      "text/plain": [
       "Miles from Home    object\n",
       "% of Accidents      int64\n",
       "dtype: object"
      ]
     },
     "execution_count": 51,
     "metadata": {},
     "output_type": "execute_result"
    }
   ],
   "source": [
    "accidents.dtypes"
   ]
  },
  {
   "cell_type": "markdown",
   "id": "4553a526",
   "metadata": {},
   "source": [
    "## Reading Exel files ##"
   ]
  },
  {
   "cell_type": "code",
   "execution_count": 36,
   "id": "db6f9a03",
   "metadata": {},
   "outputs": [],
   "source": [
    "green_trip = pd.read_excel(r\"Data\\green_tripdata_2015-09.xls\")"
   ]
  },
  {
   "cell_type": "code",
   "execution_count": 38,
   "id": "032e3079",
   "metadata": {},
   "outputs": [
    {
     "data": {
      "text/plain": [
       "(65535, 21)"
      ]
     },
     "execution_count": 38,
     "metadata": {},
     "output_type": "execute_result"
    }
   ],
   "source": [
    "green_trip.shape"
   ]
  },
  {
   "cell_type": "code",
   "execution_count": 40,
   "id": "af14d3dd",
   "metadata": {},
   "outputs": [
    {
     "data": {
      "text/plain": [
       "Index(['VendorID', 'lpep_pickup_datetime', 'Lpep_dropoff_datetime',\n",
       "       'Store_and_fwd_flag', 'RateCodeID', 'Pickup_longitude',\n",
       "       'Pickup_latitude', 'Dropoff_longitude', 'Dropoff_latitude',\n",
       "       'Passenger_count', 'Trip_distance', 'Fare_amount', 'Extra', 'MTA_tax',\n",
       "       'Tip_amount', 'Tolls_amount', 'Ehail_fee', 'improvement_surcharge',\n",
       "       'Total_amount', 'Payment_type', 'Trip_type '],\n",
       "      dtype='object')"
      ]
     },
     "execution_count": 40,
     "metadata": {},
     "output_type": "execute_result"
    }
   ],
   "source": [
    "green_trip.columns"
   ]
  },
  {
   "cell_type": "code",
   "execution_count": 41,
   "id": "d11c65f0",
   "metadata": {},
   "outputs": [
    {
     "data": {
      "text/plain": [
       "2    36131\n",
       "1    28912\n",
       "3      281\n",
       "4      207\n",
       "5        4\n",
       "Name: Payment_type, dtype: int64"
      ]
     },
     "execution_count": 41,
     "metadata": {},
     "output_type": "execute_result"
    }
   ],
   "source": [
    "green_trip[\"Payment_type\"].value_counts()"
   ]
  },
  {
   "cell_type": "code",
   "execution_count": 50,
   "id": "afc97425",
   "metadata": {},
   "outputs": [
    {
     "data": {
      "image/png": "[encoded data removed]",
      "text/plain": [
       "<Figure size 432x288 with 1 Axes>"
      ]
     },
     "metadata": {
      "needs_background": "light"
     },
     "output_type": "display_data"
    }
   ],
   "source": [
    "plt.hist(green_trip[\"Total_amount\"], bins=50)\n",
    "# plt.semilogx()\n",
    "plt.show()"
   ]
  },
  {
   "cell_type": "markdown",
   "id": "7f22861a",
   "metadata": {},
   "source": [
    "## Reading json (web service) ##"
   ]
  },
  {
   "cell_type": "code",
   "execution_count": 57,
   "id": "8faaac1e",
   "metadata": {},
   "outputs": [
    {
     "data": {
      "text/html": [
       "<div>\n",
       "<style scoped>\n",
       "    .dataframe tbody tr th:only-of-type {\n",
       "        vertical-align: middle;\n",
       "    }\n",
       "\n",
       "    .dataframe tbody tr th {\n",
       "        vertical-align: top;\n",
       "    }\n",
       "\n",
       "    .dataframe thead th {\n",
       "        text-align: right;\n",
       "    }\n",
       "</style>\n",
       "<table border=\"1\" class=\"dataframe\">\n",
       "  <thead>\n",
       "    <tr style=\"text-align: right;\">\n",
       "      <th></th>\n",
       "      <th>numFound</th>\n",
       "      <th>start</th>\n",
       "      <th>numFoundExact</th>\n",
       "      <th>docs</th>\n",
       "      <th>num_found</th>\n",
       "      <th>q</th>\n",
       "      <th>offset</th>\n",
       "    </tr>\n",
       "  </thead>\n",
       "  <tbody>\n",
       "    <tr>\n",
       "      <th>0</th>\n",
       "      <td>558</td>\n",
       "      <td>100</td>\n",
       "      <td>True</td>\n",
       "      <td>{'key': '/works/OL8496176W', 'type': 'work', '...</td>\n",
       "      <td>558</td>\n",
       "      <td>the lord of the rings</td>\n",
       "      <td>NaN</td>\n",
       "    </tr>\n",
       "    <tr>\n",
       "      <th>1</th>\n",
       "      <td>558</td>\n",
       "      <td>100</td>\n",
       "      <td>True</td>\n",
       "      <td>{'key': '/works/OL11025026M', 'type': 'work', ...</td>\n",
       "      <td>558</td>\n",
       "      <td>the lord of the rings</td>\n",
       "      <td>NaN</td>\n",
       "    </tr>\n",
       "    <tr>\n",
       "      <th>2</th>\n",
       "      <td>558</td>\n",
       "      <td>100</td>\n",
       "      <td>True</td>\n",
       "      <td>{'key': '/works/OL12268326M', 'type': 'work', ...</td>\n",
       "      <td>558</td>\n",
       "      <td>the lord of the rings</td>\n",
       "      <td>NaN</td>\n",
       "    </tr>\n",
       "    <tr>\n",
       "      <th>3</th>\n",
       "      <td>558</td>\n",
       "      <td>100</td>\n",
       "      <td>True</td>\n",
       "      <td>{'key': '/works/OL8527356W', 'type': 'work', '...</td>\n",
       "      <td>558</td>\n",
       "      <td>the lord of the rings</td>\n",
       "      <td>NaN</td>\n",
       "    </tr>\n",
       "    <tr>\n",
       "      <th>4</th>\n",
       "      <td>558</td>\n",
       "      <td>100</td>\n",
       "      <td>True</td>\n",
       "      <td>{'key': '/works/OL2466714W', 'type': 'work', '...</td>\n",
       "      <td>558</td>\n",
       "      <td>the lord of the rings</td>\n",
       "      <td>NaN</td>\n",
       "    </tr>\n",
       "    <tr>\n",
       "      <th>...</th>\n",
       "      <td>...</td>\n",
       "      <td>...</td>\n",
       "      <td>...</td>\n",
       "      <td>...</td>\n",
       "      <td>...</td>\n",
       "      <td>...</td>\n",
       "      <td>...</td>\n",
       "    </tr>\n",
       "    <tr>\n",
       "      <th>95</th>\n",
       "      <td>558</td>\n",
       "      <td>100</td>\n",
       "      <td>True</td>\n",
       "      <td>{'key': '/works/OL5758753W', 'type': 'work', '...</td>\n",
       "      <td>558</td>\n",
       "      <td>the lord of the rings</td>\n",
       "      <td>NaN</td>\n",
       "    </tr>\n",
       "    <tr>\n",
       "      <th>96</th>\n",
       "      <td>558</td>\n",
       "      <td>100</td>\n",
       "      <td>True</td>\n",
       "      <td>{'key': '/works/OL8945083W', 'type': 'work', '...</td>\n",
       "      <td>558</td>\n",
       "      <td>the lord of the rings</td>\n",
       "      <td>NaN</td>\n",
       "    </tr>\n",
       "    <tr>\n",
       "      <th>97</th>\n",
       "      <td>558</td>\n",
       "      <td>100</td>\n",
       "      <td>True</td>\n",
       "      <td>{'key': '/works/OL8945084W', 'type': 'work', '...</td>\n",
       "      <td>558</td>\n",
       "      <td>the lord of the rings</td>\n",
       "      <td>NaN</td>\n",
       "    </tr>\n",
       "    <tr>\n",
       "      <th>98</th>\n",
       "      <td>558</td>\n",
       "      <td>100</td>\n",
       "      <td>True</td>\n",
       "      <td>{'key': '/works/OL5753822W', 'type': 'work', '...</td>\n",
       "      <td>558</td>\n",
       "      <td>the lord of the rings</td>\n",
       "      <td>NaN</td>\n",
       "    </tr>\n",
       "    <tr>\n",
       "      <th>99</th>\n",
       "      <td>558</td>\n",
       "      <td>100</td>\n",
       "      <td>True</td>\n",
       "      <td>{'key': '/works/OL11904410M', 'type': 'work', ...</td>\n",
       "      <td>558</td>\n",
       "      <td>the lord of the rings</td>\n",
       "      <td>NaN</td>\n",
       "    </tr>\n",
       "  </tbody>\n",
       "</table>\n",
       "<p>100 rows × 7 columns</p>\n",
       "</div>"
      ],
      "text/plain": [
       "    numFound  start  numFoundExact  \\\n",
       "0        558    100           True   \n",
       "1        558    100           True   \n",
       "2        558    100           True   \n",
       "3        558    100           True   \n",
       "4        558    100           True   \n",
       "..       ...    ...            ...   \n",
       "95       558    100           True   \n",
       "96       558    100           True   \n",
       "97       558    100           True   \n",
       "98       558    100           True   \n",
       "99       558    100           True   \n",
       "\n",
       "                                                 docs  num_found  \\\n",
       "0   {'key': '/works/OL8496176W', 'type': 'work', '...        558   \n",
       "1   {'key': '/works/OL11025026M', 'type': 'work', ...        558   \n",
       "2   {'key': '/works/OL12268326M', 'type': 'work', ...        558   \n",
       "3   {'key': '/works/OL8527356W', 'type': 'work', '...        558   \n",
       "4   {'key': '/works/OL2466714W', 'type': 'work', '...        558   \n",
       "..                                                ...        ...   \n",
       "95  {'key': '/works/OL5758753W', 'type': 'work', '...        558   \n",
       "96  {'key': '/works/OL8945083W', 'type': 'work', '...        558   \n",
       "97  {'key': '/works/OL8945084W', 'type': 'work', '...        558   \n",
       "98  {'key': '/works/OL5753822W', 'type': 'work', '...        558   \n",
       "99  {'key': '/works/OL11904410M', 'type': 'work', ...        558   \n",
       "\n",
       "                        q  offset  \n",
       "0   the lord of the rings     NaN  \n",
       "1   the lord of the rings     NaN  \n",
       "2   the lord of the rings     NaN  \n",
       "3   the lord of the rings     NaN  \n",
       "4   the lord of the rings     NaN  \n",
       "..                    ...     ...  \n",
       "95  the lord of the rings     NaN  \n",
       "96  the lord of the rings     NaN  \n",
       "97  the lord of the rings     NaN  \n",
       "98  the lord of the rings     NaN  \n",
       "99  the lord of the rings     NaN  \n",
       "\n",
       "[100 rows x 7 columns]"
      ]
     },
     "execution_count": 57,
     "metadata": {},
     "output_type": "execute_result"
    }
   ],
   "source": [
    "pd.read_json(\"http://openlibrary.org/search.json?q=the+lord+of+the+rings&page=2\")"
   ]
  },
  {
   "cell_type": "code",
   "execution_count": 58,
   "id": "490cd44a",
   "metadata": {},
   "outputs": [
    {
     "data": {
      "text/html": [
       "<div>\n",
       "<style scoped>\n",
       "    .dataframe tbody tr th:only-of-type {\n",
       "        vertical-align: middle;\n",
       "    }\n",
       "\n",
       "    .dataframe tbody tr th {\n",
       "        vertical-align: top;\n",
       "    }\n",
       "\n",
       "    .dataframe thead th {\n",
       "        text-align: right;\n",
       "    }\n",
       "</style>\n",
       "<table border=\"1\" class=\"dataframe\">\n",
       "  <thead>\n",
       "    <tr style=\"text-align: right;\">\n",
       "      <th></th>\n",
       "      <th>0</th>\n",
       "    </tr>\n",
       "  </thead>\n",
       "  <tbody>\n",
       "    <tr>\n",
       "      <th>numFound</th>\n",
       "      <td>558</td>\n",
       "    </tr>\n",
       "    <tr>\n",
       "      <th>start</th>\n",
       "      <td>100</td>\n",
       "    </tr>\n",
       "    <tr>\n",
       "      <th>numFoundExact</th>\n",
       "      <td>True</td>\n",
       "    </tr>\n",
       "    <tr>\n",
       "      <th>docs</th>\n",
       "      <td>[{'key': '/works/OL8496176W', 'type': 'work', ...</td>\n",
       "    </tr>\n",
       "    <tr>\n",
       "      <th>num_found</th>\n",
       "      <td>558</td>\n",
       "    </tr>\n",
       "    <tr>\n",
       "      <th>q</th>\n",
       "      <td>the lord of the rings</td>\n",
       "    </tr>\n",
       "    <tr>\n",
       "      <th>offset</th>\n",
       "      <td>None</td>\n",
       "    </tr>\n",
       "  </tbody>\n",
       "</table>\n",
       "</div>"
      ],
      "text/plain": [
       "                                                               0\n",
       "numFound                                                     558\n",
       "start                                                        100\n",
       "numFoundExact                                               True\n",
       "docs           [{'key': '/works/OL8496176W', 'type': 'work', ...\n",
       "num_found                                                    558\n",
       "q                                          the lord of the rings\n",
       "offset                                                      None"
      ]
     },
     "execution_count": 58,
     "metadata": {},
     "output_type": "execute_result"
    }
   ],
   "source": [
    "pd.read_json(\"http://openlibrary.org/search.json?q=the+lord+of+the+rings&page=2\", orient=\"index\")"
   ]
  },
  {
   "cell_type": "markdown",
   "id": "82160c8e",
   "metadata": {},
   "source": [
    "## More demo ##"
   ]
  },
  {
   "cell_type": "code",
   "execution_count": 59,
   "id": "d19cfffa",
   "metadata": {},
   "outputs": [
    {
     "data": {
      "text/plain": [
       "6"
      ]
     },
     "execution_count": 59,
     "metadata": {},
     "output_type": "execute_result"
    }
   ],
   "source": [
    "pd.Series([\"1\", \"2\", \"3\"]).astype(int).sum()"
   ]
  }
 ],
 "metadata": {
  "kernelspec": {
   "display_name": "Python 3 (ipykernel)",
   "language": "python",
   "name": "python3"
  },
  "language_info": {
   "codemirror_mode": {
    "name": "ipython",
    "version": 3
   },
   "file_extension": ".py",
   "mimetype": "text/x-python",
   "name": "python",
   "nbconvert_exporter": "python",
   "pygments_lexer": "ipython3",
   "version": "3.9.12"
  }
 },
 "nbformat": 4,
 "nbformat_minor": 5
}
