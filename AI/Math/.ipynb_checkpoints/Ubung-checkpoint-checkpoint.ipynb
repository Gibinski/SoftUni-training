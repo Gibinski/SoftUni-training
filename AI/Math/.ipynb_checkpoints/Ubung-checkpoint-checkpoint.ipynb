{
 "cells": [
  {
   "cell_type": "code",
   "execution_count": 1,
   "id": "298bebe3",
   "metadata": {},
   "outputs": [
    {
     "name": "stdout",
     "output_type": "stream",
     "text": [
      "Using matplotlib backend: <object object at 0x00000287C595A930>\n"
     ]
    }
   ],
   "source": [
    "%matplotlib"
   ]
  },
  {
   "cell_type": "code",
   "execution_count": 2,
   "id": "bc85cf46",
   "metadata": {},
   "outputs": [],
   "source": [
    "import numpy as np\n",
    "import pandas as pd\n",
    "import matplotlib.pyplot as plt"
   ]
  },
  {
   "cell_type": "markdown",
   "id": "f02afbd3",
   "metadata": {},
   "source": [
    "# Python Tips & Tricks\n",
    "# Live Demo\n",
    "# Mean of array"
   ]
  },
  {
   "cell_type": "code",
   "execution_count": 23,
   "id": "22e7907b",
   "metadata": {},
   "outputs": [],
   "source": [
    "numbers = [1, 2, 8, -10, 3, 2, 20]"
   ]
  },
  {
   "cell_type": "code",
   "execution_count": null,
   "id": "f727ae01",
   "metadata": {},
   "outputs": [],
   "source": [
    "current_sum\n",
    "for i in range(len(number)):\n",
    "    current_sum += number[i]"
   ]
  },
  {
   "cell_type": "code",
   "execution_count": 30,
   "id": "9bad63c5",
   "metadata": {},
   "outputs": [],
   "source": [
    "def helper(numbers, operation, initial_values):\n",
    "    result = []\n",
    "    result.append(initial_values)\n",
    "    for i in range(len(numbers)):        \n",
    "        new_value = operation(numbers[i], result[-1])\n",
    "        result.append(new_value)\n",
    "        print(result[1:])\n"
   ]
  },
  {
   "cell_type": "code",
   "execution_count": 31,
   "id": "d85c5972",
   "metadata": {},
   "outputs": [
    {
     "name": "stdout",
     "output_type": "stream",
     "text": [
      "[1]\n",
      "[1, 4]\n",
      "[1, 4, 64]\n",
      "[1, 4, 64, 100]\n",
      "[1, 4, 64, 100, 9]\n",
      "[1, 4, 64, 100, 9, 4]\n",
      "[1, 4, 64, 100, 9, 4, 400]\n"
     ]
    }
   ],
   "source": [
    "helper(numbers, lambda x, _: x ** 2, 1)"
   ]
  }
 ],
 "metadata": {
  "kernelspec": {
   "display_name": "Python 3 (ipykernel)",
   "language": "python",
   "name": "python3"
  },
  "language_info": {
   "codemirror_mode": {
    "name": "ipython",
    "version": 3
   },
   "file_extension": ".py",
   "mimetype": "text/x-python",
   "name": "python",
   "nbconvert_exporter": "python",
   "pygments_lexer": "ipython3",
   "version": "3.9.12"
  }
 },
 "nbformat": 4,
 "nbformat_minor": 5
}
