{
 "cells": [
  {
   "cell_type": "code",
   "execution_count": 1,
   "id": "298bebe3",
   "metadata": {},
   "outputs": [
    {
     "name": "stdout",
     "output_type": "stream",
     "text": [
      "Using matplotlib backend: <object object at 0x00000287C595A930>\n"
     ]
    }
   ],
   "source": [
    "%matplotlib"
   ]
  },
  {
   "cell_type": "code",
   "execution_count": 29,
   "id": "bc85cf46",
   "metadata": {},
   "outputs": [],
   "source": [
    "import numpy as np\n",
    "import pandas as pd\n",
    "import matplotlib.pyplot as plt\n",
    "\n",
    "from operator import add, mul"
   ]
  },
  {
   "cell_type": "markdown",
   "id": "f02afbd3",
   "metadata": {},
   "source": [
    "# Python Tips & Tricks\n",
    "# Live Demo\n",
    "# Mean of array"
   ]
  },
  {
   "cell_type": "code",
   "execution_count": 3,
   "id": "22e7907b",
   "metadata": {},
   "outputs": [],
   "source": [
    "numbers = [1, 2, 8, -10, 3, 2, 20]"
   ]
  },
  {
   "cell_type": "code",
   "execution_count": 6,
   "id": "f727ae01",
   "metadata": {},
   "outputs": [
    {
     "name": "stdout",
     "output_type": "stream",
     "text": [
      "Running lengh: 0\n",
      "Running lengh: 1\n",
      "Running lengh: 2\n",
      "Running lengh: 3\n",
      "Running lengh: 4\n",
      "Running lengh: 5\n",
      "Running lengh: 6\n"
     ]
    }
   ],
   "source": [
    "for i, v in enumerate(numbers):\n",
    "    print(f\"Running lengh: {i}\")"
   ]
  },
  {
   "cell_type": "code",
   "execution_count": 27,
   "id": "9bad63c5",
   "metadata": {},
   "outputs": [],
   "source": [
    "def reduce(numbers, operation, initial_values):\n",
    "    result = []\n",
    "    result.append(initial_values)\n",
    "    for num in numbers:        \n",
    "        new_value = operation(num, result[-1])\n",
    "        result.append(new_value)\n",
    "    return result[1:]\n"
   ]
  },
  {
   "cell_type": "code",
   "execution_count": 28,
   "id": "d85c5972",
   "metadata": {
    "scrolled": true
   },
   "outputs": [
    {
     "data": {
      "text/plain": [
       "[1, 2, 16, -160, -480, -960, -19200]"
      ]
     },
     "execution_count": 28,
     "metadata": {},
     "output_type": "execute_result"
    }
   ],
   "source": [
    "reduce(numbers, lambda x, y: x * y, 1)"
   ]
  },
  {
   "cell_type": "code",
   "execution_count": 23,
   "id": "bbf01da7",
   "metadata": {},
   "outputs": [
    {
     "data": {
      "text/plain": [
       "[1, 2, 8, -10, 3, 2, 20]"
      ]
     },
     "execution_count": 23,
     "metadata": {},
     "output_type": "execute_result"
    }
   ],
   "source": [
    "numbers"
   ]
  },
  {
   "cell_type": "code",
   "execution_count": null,
   "id": "64a85bbb",
   "metadata": {},
   "outputs": [],
   "source": []
  }
 ],
 "metadata": {
  "kernelspec": {
   "display_name": "Python 3 (ipykernel)",
   "language": "python",
   "name": "python3"
  },
  "language_info": {
   "codemirror_mode": {
    "name": "ipython",
    "version": 3
   },
   "file_extension": ".py",
   "mimetype": "text/x-python",
   "name": "python",
   "nbconvert_exporter": "python",
   "pygments_lexer": "ipython3",
   "version": "3.9.12"
  }
 },
 "nbformat": 4,
 "nbformat_minor": 5
}
